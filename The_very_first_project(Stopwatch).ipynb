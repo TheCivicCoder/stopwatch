{
 "cells": [
  {
   "cell_type": "code",
   "execution_count": 174,
   "metadata": {},
   "outputs": [],
   "source": [
    "import tkinter as tk\n",
    "from datetime import datetime"
   ]
  },
  {
   "cell_type": "code",
   "execution_count": 175,
   "metadata": {},
   "outputs": [],
   "source": [
    "counter=-1\n",
    "running = False\n",
    "def counter_label(label):\n",
    "    def count():\n",
    "        if running:\n",
    "            global counter\n",
    "            \n",
    "            if counter==-1:\n",
    "                show=\"starting...\"\n",
    "            else: \n",
    "                show= str(counter)\n",
    "            \n",
    "            label['text']= show\n",
    "            label.after(1000, count)\n",
    "            counter +=1\n",
    "    count()\n",
    "    \n",
    "def Start(label):\n",
    "    global running\n",
    "    running=True\n",
    "    counter_label(label)\n",
    "    start['state']= 'disabled'\n",
    "    stop['state']='normal'\n",
    "    reset['state']= 'normal'                \n",
    "    \n",
    "    \n",
    "def Stop():\n",
    "    global running\n",
    "    start['state']='normal'\n",
    "    stop['state']= 'disabled'\n",
    "    reset['state']='normal'\n",
    "    running= False\n",
    "\n",
    "    \n",
    "def Reset(label):\n",
    "    global counter\n",
    "    counter=-1\n",
    "    \n",
    "    if running==False:\n",
    "        reset['state']='disabled'\n",
    "        label['text']='welcome'\n",
    "        \n",
    "    else :\n",
    "        label['text']='starting...'\n",
    "        \n",
    "root= tk.Tk() \n",
    "root.title('Python Stopwatch')\n",
    "\n",
    "root.minsize(width=300, height=100)\n",
    "label = tk.Label(root, text=\"Welcome!\", fg=\"blue\",bg='black', font=\"Verdana 30 bold\")\n",
    "label.pack()\n",
    "\n",
    "f= tk.Frame(root)\n",
    "\n",
    "start=tk.Button(f, text='Start', width=6, command=lambda:Start(label))\n",
    "\n",
    "stop=tk.Button(f,text='Stop', width=6,state='disabled', command=Stop)\n",
    "\n",
    "reset= tk.Button(f, text='Reset', width=6, state='disabled', command=lambda:Reset(label))\n",
    "\n",
    "f.pack(anchor='center', pady=5)\n",
    "\n",
    "start.pack(side='left')\n",
    "\n",
    "stop.pack(side='left')\n",
    "\n",
    "reset.pack(side='left')\n",
    "\n",
    "root.mainloop()"
   ]
  },
  {
   "cell_type": "code",
   "execution_count": 176,
   "metadata": {
    "scrolled": true
   },
   "outputs": [],
   "source": [
    "import jovian"
   ]
  },
  {
   "cell_type": "code",
   "execution_count": 177,
   "metadata": {},
   "outputs": [
    {
     "data": {
      "application/javascript": [
       "window.require && require([\"base/js/namespace\"],function(Jupyter){Jupyter.notebook.save_checkpoint()})"
      ],
      "text/plain": [
       "<IPython.core.display.Javascript object>"
      ]
     },
     "metadata": {},
     "output_type": "display_data"
    },
    {
     "name": "stdout",
     "output_type": "stream",
     "text": [
      "[jovian] Attempting to save notebook..\n",
      "[jovian] Uploading notebook..\n",
      "[jovian] Capturing environment..\n",
      "[jovian] Committed successfully! https://jovian.ml/stealth-black/the-very-first-projectstopwatch\n"
     ]
    },
    {
     "data": {
      "text/plain": [
       "'https://jovian.ml/stealth-black/the-very-first-projectstopwatch'"
      ]
     },
     "execution_count": 177,
     "metadata": {},
     "output_type": "execute_result"
    }
   ],
   "source": [
    "jovian.commit()"
   ]
  },
  {
   "cell_type": "code",
   "execution_count": null,
   "metadata": {
    "collapsed": true
   },
   "outputs": [],
   "source": []
  },
  {
   "cell_type": "code",
   "execution_count": 150,
   "metadata": {},
   "outputs": [],
   "source": []
  }
 ],
 "metadata": {
  "kernelspec": {
   "display_name": "Python 3",
   "language": "python",
   "name": "python3"
  },
  "language_info": {
   "codemirror_mode": {
    "name": "ipython",
    "version": 3
   },
   "file_extension": ".py",
   "mimetype": "text/x-python",
   "name": "python",
   "nbconvert_exporter": "python",
   "pygments_lexer": "ipython3",
   "version": "3.7.0"
  }
 },
 "nbformat": 4,
 "nbformat_minor": 2
}
